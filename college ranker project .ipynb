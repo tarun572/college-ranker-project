{
 "cells": [
  {
   "cell_type": "markdown",
   "metadata": {
    "id": "DH9WovFhPo5r"
   },
   "source": [
    "# <center>Box Office Data Analytics</h2>"
   ]
  },
  {
   "cell_type": "markdown",
   "metadata": {
    "id": "O_yEWwN1Po5z"
   },
   "source": [
    "## Import Libraries"
   ]
  },
  {
   "cell_type": "code",
   "execution_count": 1,
   "metadata": {
    "id": "sTVHZTdEPo50"
   },
   "outputs": [],
   "source": [
    "import numpy as np\n",
    "import seaborn as sns\n",
    "import matplotlib.pyplot as plt\n",
    "import pandas as pd"
   ]
  },
  {
   "cell_type": "markdown",
   "metadata": {
    "id": "Hje7yn7kPo52"
   },
   "source": [
    "## Task 1: Data Loading and Exploration"
   ]
  },
  {
   "cell_type": "code",
   "execution_count": 3,
   "metadata": {
    "id": "_8by8dRhPo53"
   },
   "outputs": [],
   "source": [
    "data=pd.read_csv(\"C:\\\\Users\\\\dubey\\\\OneDrive\\\\Desktop\\\\box_office.csv\")"
   ]
  },
  {
   "cell_type": "code",
   "execution_count": 4,
   "metadata": {
    "id": "A1N51GVKPo54"
   },
   "outputs": [
    {
     "data": {
      "text/html": [
       "<div>\n",
       "<style scoped>\n",
       "    .dataframe tbody tr th:only-of-type {\n",
       "        vertical-align: middle;\n",
       "    }\n",
       "\n",
       "    .dataframe tbody tr th {\n",
       "        vertical-align: top;\n",
       "    }\n",
       "\n",
       "    .dataframe thead th {\n",
       "        text-align: right;\n",
       "    }\n",
       "</style>\n",
       "<table border=\"1\" class=\"dataframe\">\n",
       "  <thead>\n",
       "    <tr style=\"text-align: right;\">\n",
       "      <th></th>\n",
       "      <th>id</th>\n",
       "      <th>budget</th>\n",
       "      <th>homepage</th>\n",
       "      <th>imdb_id</th>\n",
       "      <th>original_language</th>\n",
       "      <th>original_title</th>\n",
       "      <th>overview</th>\n",
       "      <th>popularity</th>\n",
       "      <th>poster_path</th>\n",
       "      <th>release_date</th>\n",
       "      <th>...</th>\n",
       "      <th>departments_Art</th>\n",
       "      <th>departments_Crew</th>\n",
       "      <th>departments_Writing</th>\n",
       "      <th>departments_Costume &amp; Make-Up</th>\n",
       "      <th>departments_Camera</th>\n",
       "      <th>departments_Directing</th>\n",
       "      <th>departments_Editing</th>\n",
       "      <th>departments_Visual Effects</th>\n",
       "      <th>departments_Lighting</th>\n",
       "      <th>departments_Actors</th>\n",
       "    </tr>\n",
       "  </thead>\n",
       "  <tbody>\n",
       "    <tr>\n",
       "      <th>0</th>\n",
       "      <td>1</td>\n",
       "      <td>14000000</td>\n",
       "      <td>NaN</td>\n",
       "      <td>tt2637294</td>\n",
       "      <td>en</td>\n",
       "      <td>Hot Tub Time Machine 2</td>\n",
       "      <td>When Lou, who has become the \"father of the In...</td>\n",
       "      <td>6.575393</td>\n",
       "      <td>/tQtWuwvMf0hCc2QR2tkolwl7c3c.jpg</td>\n",
       "      <td>2/20/15</td>\n",
       "      <td>...</td>\n",
       "      <td>12</td>\n",
       "      <td>4</td>\n",
       "      <td>2</td>\n",
       "      <td>13</td>\n",
       "      <td>8</td>\n",
       "      <td>4</td>\n",
       "      <td>2</td>\n",
       "      <td>4</td>\n",
       "      <td>4</td>\n",
       "      <td>0</td>\n",
       "    </tr>\n",
       "    <tr>\n",
       "      <th>1</th>\n",
       "      <td>2</td>\n",
       "      <td>40000000</td>\n",
       "      <td>NaN</td>\n",
       "      <td>tt0368933</td>\n",
       "      <td>en</td>\n",
       "      <td>The Princess Diaries 2: Royal Engagement</td>\n",
       "      <td>Mia Thermopolis is now a college graduate and ...</td>\n",
       "      <td>8.248895</td>\n",
       "      <td>/w9Z7A0GHEhIp7etpj0vyKOeU1Wx.jpg</td>\n",
       "      <td>8/6/04</td>\n",
       "      <td>...</td>\n",
       "      <td>0</td>\n",
       "      <td>0</td>\n",
       "      <td>1</td>\n",
       "      <td>0</td>\n",
       "      <td>1</td>\n",
       "      <td>1</td>\n",
       "      <td>1</td>\n",
       "      <td>0</td>\n",
       "      <td>0</td>\n",
       "      <td>0</td>\n",
       "    </tr>\n",
       "    <tr>\n",
       "      <th>2</th>\n",
       "      <td>3</td>\n",
       "      <td>3300000</td>\n",
       "      <td>http://sonyclassics.com/whiplash/</td>\n",
       "      <td>tt2582802</td>\n",
       "      <td>en</td>\n",
       "      <td>Whiplash</td>\n",
       "      <td>Under the direction of a ruthless instructor, ...</td>\n",
       "      <td>64.299990</td>\n",
       "      <td>/lIv1QinFqz4dlp5U4lQ6HaiskOZ.jpg</td>\n",
       "      <td>10/10/14</td>\n",
       "      <td>...</td>\n",
       "      <td>5</td>\n",
       "      <td>9</td>\n",
       "      <td>1</td>\n",
       "      <td>5</td>\n",
       "      <td>4</td>\n",
       "      <td>3</td>\n",
       "      <td>6</td>\n",
       "      <td>3</td>\n",
       "      <td>1</td>\n",
       "      <td>0</td>\n",
       "    </tr>\n",
       "    <tr>\n",
       "      <th>3</th>\n",
       "      <td>4</td>\n",
       "      <td>1200000</td>\n",
       "      <td>http://kahaanithefilm.com/</td>\n",
       "      <td>tt1821480</td>\n",
       "      <td>hi</td>\n",
       "      <td>Kahaani</td>\n",
       "      <td>Vidya Bagchi (Vidya Balan) arrives in Kolkata ...</td>\n",
       "      <td>3.174936</td>\n",
       "      <td>/aTXRaPrWSinhcmCrcfJK17urp3F.jpg</td>\n",
       "      <td>3/9/12</td>\n",
       "      <td>...</td>\n",
       "      <td>0</td>\n",
       "      <td>0</td>\n",
       "      <td>1</td>\n",
       "      <td>0</td>\n",
       "      <td>0</td>\n",
       "      <td>1</td>\n",
       "      <td>0</td>\n",
       "      <td>0</td>\n",
       "      <td>0</td>\n",
       "      <td>0</td>\n",
       "    </tr>\n",
       "    <tr>\n",
       "      <th>4</th>\n",
       "      <td>5</td>\n",
       "      <td>0</td>\n",
       "      <td>NaN</td>\n",
       "      <td>tt1380152</td>\n",
       "      <td>ko</td>\n",
       "      <td>마린보이</td>\n",
       "      <td>Marine Boy is the story of a former national s...</td>\n",
       "      <td>1.148070</td>\n",
       "      <td>/m22s7zvkVFDU9ir56PiiqIEWFdT.jpg</td>\n",
       "      <td>2/5/09</td>\n",
       "      <td>...</td>\n",
       "      <td>0</td>\n",
       "      <td>0</td>\n",
       "      <td>1</td>\n",
       "      <td>0</td>\n",
       "      <td>0</td>\n",
       "      <td>1</td>\n",
       "      <td>0</td>\n",
       "      <td>0</td>\n",
       "      <td>0</td>\n",
       "      <td>0</td>\n",
       "    </tr>\n",
       "  </tbody>\n",
       "</table>\n",
       "<p>5 rows × 203 columns</p>\n",
       "</div>"
      ],
      "text/plain": [
       "   id    budget                           homepage    imdb_id  \\\n",
       "0   1  14000000                                NaN  tt2637294   \n",
       "1   2  40000000                                NaN  tt0368933   \n",
       "2   3   3300000  http://sonyclassics.com/whiplash/  tt2582802   \n",
       "3   4   1200000         http://kahaanithefilm.com/  tt1821480   \n",
       "4   5         0                                NaN  tt1380152   \n",
       "\n",
       "  original_language                            original_title  \\\n",
       "0                en                    Hot Tub Time Machine 2   \n",
       "1                en  The Princess Diaries 2: Royal Engagement   \n",
       "2                en                                  Whiplash   \n",
       "3                hi                                   Kahaani   \n",
       "4                ko                                      마린보이   \n",
       "\n",
       "                                            overview  popularity  \\\n",
       "0  When Lou, who has become the \"father of the In...    6.575393   \n",
       "1  Mia Thermopolis is now a college graduate and ...    8.248895   \n",
       "2  Under the direction of a ruthless instructor, ...   64.299990   \n",
       "3  Vidya Bagchi (Vidya Balan) arrives in Kolkata ...    3.174936   \n",
       "4  Marine Boy is the story of a former national s...    1.148070   \n",
       "\n",
       "                        poster_path release_date  ...  departments_Art  \\\n",
       "0  /tQtWuwvMf0hCc2QR2tkolwl7c3c.jpg      2/20/15  ...               12   \n",
       "1  /w9Z7A0GHEhIp7etpj0vyKOeU1Wx.jpg       8/6/04  ...                0   \n",
       "2  /lIv1QinFqz4dlp5U4lQ6HaiskOZ.jpg     10/10/14  ...                5   \n",
       "3  /aTXRaPrWSinhcmCrcfJK17urp3F.jpg       3/9/12  ...                0   \n",
       "4  /m22s7zvkVFDU9ir56PiiqIEWFdT.jpg       2/5/09  ...                0   \n",
       "\n",
       "  departments_Crew departments_Writing departments_Costume & Make-Up  \\\n",
       "0                4                   2                            13   \n",
       "1                0                   1                             0   \n",
       "2                9                   1                             5   \n",
       "3                0                   1                             0   \n",
       "4                0                   1                             0   \n",
       "\n",
       "  departments_Camera  departments_Directing departments_Editing  \\\n",
       "0                  8                      4                   2   \n",
       "1                  1                      1                   1   \n",
       "2                  4                      3                   6   \n",
       "3                  0                      1                   0   \n",
       "4                  0                      1                   0   \n",
       "\n",
       "   departments_Visual Effects  departments_Lighting departments_Actors  \n",
       "0                           4                     4                  0  \n",
       "1                           0                     0                  0  \n",
       "2                           3                     1                  0  \n",
       "3                           0                     0                  0  \n",
       "4                           0                     0                  0  \n",
       "\n",
       "[5 rows x 203 columns]"
      ]
     },
     "execution_count": 4,
     "metadata": {},
     "output_type": "execute_result"
    }
   ],
   "source": [
    "data.head()"
   ]
  },
  {
   "cell_type": "code",
   "execution_count": 5,
   "metadata": {},
   "outputs": [
    {
     "data": {
      "text/plain": [
       "<bound method NDFrame._add_numeric_operations.<locals>.sum of          id  budget  homepage  imdb_id  original_language  original_title  \\\n",
       "0     False   False      True    False              False           False   \n",
       "1     False   False      True    False              False           False   \n",
       "2     False   False     False    False              False           False   \n",
       "3     False   False     False    False              False           False   \n",
       "4     False   False      True    False              False           False   \n",
       "...     ...     ...       ...      ...                ...             ...   \n",
       "2995  False   False      True    False              False           False   \n",
       "2996  False   False      True    False              False           False   \n",
       "2997  False   False      True    False              False           False   \n",
       "2998  False   False     False    False              False           False   \n",
       "2999  False   False     False    False              False           False   \n",
       "\n",
       "      overview  popularity  poster_path  release_date  ...  departments_Art  \\\n",
       "0        False       False        False         False  ...            False   \n",
       "1        False       False        False         False  ...            False   \n",
       "2        False       False        False         False  ...            False   \n",
       "3        False       False        False         False  ...            False   \n",
       "4        False       False        False         False  ...            False   \n",
       "...        ...         ...          ...           ...  ...              ...   \n",
       "2995     False       False        False         False  ...            False   \n",
       "2996     False       False        False         False  ...            False   \n",
       "2997     False       False        False         False  ...            False   \n",
       "2998     False       False        False         False  ...            False   \n",
       "2999     False       False        False         False  ...            False   \n",
       "\n",
       "      departments_Crew  departments_Writing  departments_Costume & Make-Up  \\\n",
       "0                False                False                          False   \n",
       "1                False                False                          False   \n",
       "2                False                False                          False   \n",
       "3                False                False                          False   \n",
       "4                False                False                          False   \n",
       "...                ...                  ...                            ...   \n",
       "2995             False                False                          False   \n",
       "2996             False                False                          False   \n",
       "2997             False                False                          False   \n",
       "2998             False                False                          False   \n",
       "2999             False                False                          False   \n",
       "\n",
       "      departments_Camera  departments_Directing  departments_Editing  \\\n",
       "0                  False                  False                False   \n",
       "1                  False                  False                False   \n",
       "2                  False                  False                False   \n",
       "3                  False                  False                False   \n",
       "4                  False                  False                False   \n",
       "...                  ...                    ...                  ...   \n",
       "2995               False                  False                False   \n",
       "2996               False                  False                False   \n",
       "2997               False                  False                False   \n",
       "2998               False                  False                False   \n",
       "2999               False                  False                False   \n",
       "\n",
       "      departments_Visual Effects  departments_Lighting  departments_Actors  \n",
       "0                          False                 False               False  \n",
       "1                          False                 False               False  \n",
       "2                          False                 False               False  \n",
       "3                          False                 False               False  \n",
       "4                          False                 False               False  \n",
       "...                          ...                   ...                 ...  \n",
       "2995                       False                 False               False  \n",
       "2996                       False                 False               False  \n",
       "2997                       False                 False               False  \n",
       "2998                       False                 False               False  \n",
       "2999                       False                 False               False  \n",
       "\n",
       "[3000 rows x 203 columns]>"
      ]
     },
     "execution_count": 5,
     "metadata": {},
     "output_type": "execute_result"
    }
   ],
   "source": [
    "data.isna().sum"
   ]
  },
  {
   "cell_type": "code",
   "execution_count": 6,
   "metadata": {},
   "outputs": [],
   "source": [
    "data.dropna(inplace=True)"
   ]
  },
  {
   "cell_type": "code",
   "execution_count": 7,
   "metadata": {},
   "outputs": [
    {
     "data": {
      "text/html": [
       "<div>\n",
       "<style scoped>\n",
       "    .dataframe tbody tr th:only-of-type {\n",
       "        vertical-align: middle;\n",
       "    }\n",
       "\n",
       "    .dataframe tbody tr th {\n",
       "        vertical-align: top;\n",
       "    }\n",
       "\n",
       "    .dataframe thead th {\n",
       "        text-align: right;\n",
       "    }\n",
       "</style>\n",
       "<table border=\"1\" class=\"dataframe\">\n",
       "  <thead>\n",
       "    <tr style=\"text-align: right;\">\n",
       "      <th></th>\n",
       "      <th>id</th>\n",
       "      <th>budget</th>\n",
       "      <th>popularity</th>\n",
       "      <th>runtime</th>\n",
       "      <th>revenue</th>\n",
       "      <th>has_collection</th>\n",
       "      <th>num_genres</th>\n",
       "      <th>genre_Drama</th>\n",
       "      <th>genre_Comedy</th>\n",
       "      <th>genre_Thriller</th>\n",
       "      <th>...</th>\n",
       "      <th>departments_Art</th>\n",
       "      <th>departments_Crew</th>\n",
       "      <th>departments_Writing</th>\n",
       "      <th>departments_Costume &amp; Make-Up</th>\n",
       "      <th>departments_Camera</th>\n",
       "      <th>departments_Directing</th>\n",
       "      <th>departments_Editing</th>\n",
       "      <th>departments_Visual Effects</th>\n",
       "      <th>departments_Lighting</th>\n",
       "      <th>departments_Actors</th>\n",
       "    </tr>\n",
       "  </thead>\n",
       "  <tbody>\n",
       "    <tr>\n",
       "      <th>count</th>\n",
       "      <td>798.000000</td>\n",
       "      <td>7.980000e+02</td>\n",
       "      <td>798.000000</td>\n",
       "      <td>798.000000</td>\n",
       "      <td>7.980000e+02</td>\n",
       "      <td>798.000000</td>\n",
       "      <td>798.000000</td>\n",
       "      <td>798.000000</td>\n",
       "      <td>798.000000</td>\n",
       "      <td>798.000000</td>\n",
       "      <td>...</td>\n",
       "      <td>798.000000</td>\n",
       "      <td>798.000000</td>\n",
       "      <td>798.000000</td>\n",
       "      <td>798.000000</td>\n",
       "      <td>798.00000</td>\n",
       "      <td>798.000000</td>\n",
       "      <td>798.000000</td>\n",
       "      <td>798.000000</td>\n",
       "      <td>798.000000</td>\n",
       "      <td>798.0</td>\n",
       "    </tr>\n",
       "    <tr>\n",
       "      <th>mean</th>\n",
       "      <td>1482.815789</td>\n",
       "      <td>4.097408e+07</td>\n",
       "      <td>12.496881</td>\n",
       "      <td>109.349624</td>\n",
       "      <td>1.374351e+08</td>\n",
       "      <td>0.263158</td>\n",
       "      <td>2.571429</td>\n",
       "      <td>0.462406</td>\n",
       "      <td>0.313283</td>\n",
       "      <td>0.281955</td>\n",
       "      <td>...</td>\n",
       "      <td>3.978697</td>\n",
       "      <td>3.692982</td>\n",
       "      <td>2.458647</td>\n",
       "      <td>3.340852</td>\n",
       "      <td>2.54386</td>\n",
       "      <td>1.810777</td>\n",
       "      <td>2.065163</td>\n",
       "      <td>2.397243</td>\n",
       "      <td>0.685464</td>\n",
       "      <td>0.0</td>\n",
       "    </tr>\n",
       "    <tr>\n",
       "      <th>std</th>\n",
       "      <td>854.604091</td>\n",
       "      <td>5.270069e+07</td>\n",
       "      <td>20.078253</td>\n",
       "      <td>19.048754</td>\n",
       "      <td>2.217756e+08</td>\n",
       "      <td>0.440624</td>\n",
       "      <td>1.055207</td>\n",
       "      <td>0.498897</td>\n",
       "      <td>0.464119</td>\n",
       "      <td>0.450234</td>\n",
       "      <td>...</td>\n",
       "      <td>5.084559</td>\n",
       "      <td>7.037788</td>\n",
       "      <td>1.754770</td>\n",
       "      <td>4.799008</td>\n",
       "      <td>3.31378</td>\n",
       "      <td>1.318923</td>\n",
       "      <td>2.169311</td>\n",
       "      <td>5.463128</td>\n",
       "      <td>1.507011</td>\n",
       "      <td>0.0</td>\n",
       "    </tr>\n",
       "    <tr>\n",
       "      <th>min</th>\n",
       "      <td>3.000000</td>\n",
       "      <td>0.000000e+00</td>\n",
       "      <td>0.158651</td>\n",
       "      <td>40.000000</td>\n",
       "      <td>4.000000e+00</td>\n",
       "      <td>0.000000</td>\n",
       "      <td>1.000000</td>\n",
       "      <td>0.000000</td>\n",
       "      <td>0.000000</td>\n",
       "      <td>0.000000</td>\n",
       "      <td>...</td>\n",
       "      <td>0.000000</td>\n",
       "      <td>0.000000</td>\n",
       "      <td>0.000000</td>\n",
       "      <td>0.000000</td>\n",
       "      <td>0.00000</td>\n",
       "      <td>0.000000</td>\n",
       "      <td>0.000000</td>\n",
       "      <td>0.000000</td>\n",
       "      <td>0.000000</td>\n",
       "      <td>0.0</td>\n",
       "    </tr>\n",
       "    <tr>\n",
       "      <th>25%</th>\n",
       "      <td>768.750000</td>\n",
       "      <td>5.000000e+06</td>\n",
       "      <td>6.713486</td>\n",
       "      <td>95.000000</td>\n",
       "      <td>7.678020e+06</td>\n",
       "      <td>0.000000</td>\n",
       "      <td>2.000000</td>\n",
       "      <td>0.000000</td>\n",
       "      <td>0.000000</td>\n",
       "      <td>0.000000</td>\n",
       "      <td>...</td>\n",
       "      <td>0.000000</td>\n",
       "      <td>0.000000</td>\n",
       "      <td>1.000000</td>\n",
       "      <td>0.000000</td>\n",
       "      <td>1.00000</td>\n",
       "      <td>1.000000</td>\n",
       "      <td>1.000000</td>\n",
       "      <td>0.000000</td>\n",
       "      <td>0.000000</td>\n",
       "      <td>0.0</td>\n",
       "    </tr>\n",
       "    <tr>\n",
       "      <th>50%</th>\n",
       "      <td>1459.500000</td>\n",
       "      <td>2.000000e+07</td>\n",
       "      <td>9.562828</td>\n",
       "      <td>106.000000</td>\n",
       "      <td>5.197698e+07</td>\n",
       "      <td>0.000000</td>\n",
       "      <td>3.000000</td>\n",
       "      <td>0.000000</td>\n",
       "      <td>0.000000</td>\n",
       "      <td>0.000000</td>\n",
       "      <td>...</td>\n",
       "      <td>3.000000</td>\n",
       "      <td>1.000000</td>\n",
       "      <td>2.000000</td>\n",
       "      <td>1.000000</td>\n",
       "      <td>1.00000</td>\n",
       "      <td>1.000000</td>\n",
       "      <td>1.000000</td>\n",
       "      <td>0.000000</td>\n",
       "      <td>0.000000</td>\n",
       "      <td>0.0</td>\n",
       "    </tr>\n",
       "    <tr>\n",
       "      <th>75%</th>\n",
       "      <td>2236.500000</td>\n",
       "      <td>5.600000e+07</td>\n",
       "      <td>13.265730</td>\n",
       "      <td>121.000000</td>\n",
       "      <td>1.570693e+08</td>\n",
       "      <td>1.000000</td>\n",
       "      <td>3.000000</td>\n",
       "      <td>1.000000</td>\n",
       "      <td>1.000000</td>\n",
       "      <td>1.000000</td>\n",
       "      <td>...</td>\n",
       "      <td>5.000000</td>\n",
       "      <td>4.000000</td>\n",
       "      <td>3.000000</td>\n",
       "      <td>5.000000</td>\n",
       "      <td>3.00000</td>\n",
       "      <td>2.000000</td>\n",
       "      <td>3.000000</td>\n",
       "      <td>2.000000</td>\n",
       "      <td>1.000000</td>\n",
       "      <td>0.0</td>\n",
       "    </tr>\n",
       "    <tr>\n",
       "      <th>max</th>\n",
       "      <td>3000.000000</td>\n",
       "      <td>3.800000e+08</td>\n",
       "      <td>294.337037</td>\n",
       "      <td>180.000000</td>\n",
       "      <td>1.519558e+09</td>\n",
       "      <td>1.000000</td>\n",
       "      <td>6.000000</td>\n",
       "      <td>1.000000</td>\n",
       "      <td>1.000000</td>\n",
       "      <td>1.000000</td>\n",
       "      <td>...</td>\n",
       "      <td>28.000000</td>\n",
       "      <td>88.000000</td>\n",
       "      <td>14.000000</td>\n",
       "      <td>33.000000</td>\n",
       "      <td>23.00000</td>\n",
       "      <td>17.000000</td>\n",
       "      <td>14.000000</td>\n",
       "      <td>52.000000</td>\n",
       "      <td>12.000000</td>\n",
       "      <td>0.0</td>\n",
       "    </tr>\n",
       "  </tbody>\n",
       "</table>\n",
       "<p>8 rows × 190 columns</p>\n",
       "</div>"
      ],
      "text/plain": [
       "                id        budget  popularity     runtime       revenue  \\\n",
       "count   798.000000  7.980000e+02  798.000000  798.000000  7.980000e+02   \n",
       "mean   1482.815789  4.097408e+07   12.496881  109.349624  1.374351e+08   \n",
       "std     854.604091  5.270069e+07   20.078253   19.048754  2.217756e+08   \n",
       "min       3.000000  0.000000e+00    0.158651   40.000000  4.000000e+00   \n",
       "25%     768.750000  5.000000e+06    6.713486   95.000000  7.678020e+06   \n",
       "50%    1459.500000  2.000000e+07    9.562828  106.000000  5.197698e+07   \n",
       "75%    2236.500000  5.600000e+07   13.265730  121.000000  1.570693e+08   \n",
       "max    3000.000000  3.800000e+08  294.337037  180.000000  1.519558e+09   \n",
       "\n",
       "       has_collection  num_genres  genre_Drama  genre_Comedy  genre_Thriller  \\\n",
       "count      798.000000  798.000000   798.000000    798.000000      798.000000   \n",
       "mean         0.263158    2.571429     0.462406      0.313283        0.281955   \n",
       "std          0.440624    1.055207     0.498897      0.464119        0.450234   \n",
       "min          0.000000    1.000000     0.000000      0.000000        0.000000   \n",
       "25%          0.000000    2.000000     0.000000      0.000000        0.000000   \n",
       "50%          0.000000    3.000000     0.000000      0.000000        0.000000   \n",
       "75%          1.000000    3.000000     1.000000      1.000000        1.000000   \n",
       "max          1.000000    6.000000     1.000000      1.000000        1.000000   \n",
       "\n",
       "       ...  departments_Art  departments_Crew  departments_Writing  \\\n",
       "count  ...       798.000000        798.000000           798.000000   \n",
       "mean   ...         3.978697          3.692982             2.458647   \n",
       "std    ...         5.084559          7.037788             1.754770   \n",
       "min    ...         0.000000          0.000000             0.000000   \n",
       "25%    ...         0.000000          0.000000             1.000000   \n",
       "50%    ...         3.000000          1.000000             2.000000   \n",
       "75%    ...         5.000000          4.000000             3.000000   \n",
       "max    ...        28.000000         88.000000            14.000000   \n",
       "\n",
       "       departments_Costume & Make-Up  departments_Camera  \\\n",
       "count                     798.000000           798.00000   \n",
       "mean                        3.340852             2.54386   \n",
       "std                         4.799008             3.31378   \n",
       "min                         0.000000             0.00000   \n",
       "25%                         0.000000             1.00000   \n",
       "50%                         1.000000             1.00000   \n",
       "75%                         5.000000             3.00000   \n",
       "max                        33.000000            23.00000   \n",
       "\n",
       "       departments_Directing  departments_Editing  departments_Visual Effects  \\\n",
       "count             798.000000           798.000000                  798.000000   \n",
       "mean                1.810777             2.065163                    2.397243   \n",
       "std                 1.318923             2.169311                    5.463128   \n",
       "min                 0.000000             0.000000                    0.000000   \n",
       "25%                 1.000000             1.000000                    0.000000   \n",
       "50%                 1.000000             1.000000                    0.000000   \n",
       "75%                 2.000000             3.000000                    2.000000   \n",
       "max                17.000000            14.000000                   52.000000   \n",
       "\n",
       "       departments_Lighting  departments_Actors  \n",
       "count            798.000000               798.0  \n",
       "mean               0.685464                 0.0  \n",
       "std                1.507011                 0.0  \n",
       "min                0.000000                 0.0  \n",
       "25%                0.000000                 0.0  \n",
       "50%                0.000000                 0.0  \n",
       "75%                1.000000                 0.0  \n",
       "max               12.000000                 0.0  \n",
       "\n",
       "[8 rows x 190 columns]"
      ]
     },
     "execution_count": 7,
     "metadata": {},
     "output_type": "execute_result"
    }
   ],
   "source": [
    "data.describe()"
   ]
  },
  {
   "cell_type": "markdown",
   "metadata": {
    "id": "h1C9Vze1Po56"
   },
   "source": [
    "## Task 2: Visualizing the Target Distribution"
   ]
  },
  {
   "cell_type": "code",
   "execution_count": 8,
   "metadata": {
    "id": "pErQCv3bPo57"
   },
   "outputs": [
    {
     "name": "stderr",
     "output_type": "stream",
     "text": [
      "C:\\Users\\dubey\\AppData\\Local\\Programs\\Python\\Python310\\lib\\site-packages\\seaborn\\distributions.py:2619: FutureWarning: `distplot` is a deprecated function and will be removed in a future version. Please adapt your code to use either `displot` (a figure-level function with similar flexibility) or `kdeplot` (an axes-level function for kernel density plots).\n",
      "  warnings.warn(msg, FutureWarning)\n",
      "C:\\Users\\dubey\\AppData\\Local\\Programs\\Python\\Python310\\lib\\site-packages\\seaborn\\distributions.py:2619: FutureWarning: `distplot` is a deprecated function and will be removed in a future version. Please adapt your code to use either `displot` (a figure-level function with similar flexibility) or `kdeplot` (an axes-level function for kernel density plots).\n",
      "  warnings.warn(msg, FutureWarning)\n"
     ]
    },
    {
     "data": {
      "image/png": "[encoded data removed]",
      "text/plain": [
       "<Figure size 1440x720 with 2 Axes>"
      ]
     },
     "metadata": {
      "needs_background": "light"
     },
     "output_type": "display_data"
    }
   ],
   "source": [
    "plt.figure(figsize=(20,10))\n",
    "plt.subplot(1,2,1)\n",
    "sns.distplot(data['revenue'],hist=False,color='blue')\n",
    "plt.title(\"Revenue\")\n",
    "plt.subplot(1,2,2)\n",
    "sns.distplot(np.log1p(data['revenue']),hist=False,color='green')\n",
    "plt.title('Log Transformed Revenue')\n",
    "plt.show()"
   ]
  },
  {
   "cell_type": "markdown",
   "metadata": {
    "id": "hIZLMZ5kPo59"
   },
   "source": [
    "## Task 3: Relationship between Film Revenue and Budget"
   ]
  },
  {
   "cell_type": "code",
   "execution_count": 9,
   "metadata": {
    "id": "GvQnNCTPPo5-"
   },
   "outputs": [
    {
     "data": {
      "text/plain": [
       "<Figure size 1440x720 with 0 Axes>"
      ]
     },
     "metadata": {},
     "output_type": "display_data"
    },
    {
     "data": {
      "image/png": "[encoded data removed]",
      "text/plain": [
       "<Figure size 432x432 with 3 Axes>"
      ]
     },
     "metadata": {
      "needs_background": "light"
     },
     "output_type": "display_data"
    }
   ],
   "source": [
    "plt.figure(figsize=(20,10))\n",
    "sns.jointplot(y=data['revenue'],x=data['budget'],kind='hist',color='aqua')\n",
    "sns.set(style=\"darkgrid\")\n",
    "plt.show()"
   ]
  },
  {
   "cell_type": "code",
   "execution_count": 10,
   "metadata": {
    "id": "yQUqi89oPo5-"
   },
   "outputs": [
    {
     "data": {
      "text/plain": [
       "<Figure size 1440x720 with 0 Axes>"
      ]
     },
     "metadata": {},
     "output_type": "display_data"
    },
    {
     "data": {
      "image/png": "[encoded data removed]",
      "text/plain": [
       "<Figure size 432x432 with 3 Axes>"
      ]
     },
     "metadata": {},
     "output_type": "display_data"
    }
   ],
   "source": [
    "plt.figure(figsize=(20,10))\n",
    "sns.jointplot(x=np.log1p(data['budget']),y=np.log1p(data['revenue']),kind='hist',color='blue')\n",
    "sns.set(style=\"darkgrid\")"
   ]
  },
  {
   "cell_type": "markdown",
   "metadata": {
    "id": "Gq53luJ_Po5_"
   },
   "source": [
    "## Task 4: Distribution of Languages in Film"
   ]
  },
  {
   "cell_type": "code",
   "execution_count": 11,
   "metadata": {
    "id": "B89ZPsrsPo6A"
   },
   "outputs": [
    {
     "data": {
      "text/plain": [
       "array(['en', 'sr', 'es', 'zh', 'ko', 'ja', 'de', 'cn', 'hi', 'fr', 'da',\n",
       "       'ru', 'no', 'nb', 'fa', 'sv', 'nl', 'id', 'hu', 'ml'], dtype=object)"
      ]
     },
     "execution_count": 11,
     "metadata": {},
     "output_type": "execute_result"
    }
   ],
   "source": [
    "data['original_language'].unique()"
   ]
  },
  {
   "cell_type": "code",
   "execution_count": 12,
   "metadata": {
    "id": "9WwlJH2RPo6A"
   },
   "outputs": [],
   "source": [
    "languages=data.loc[data['original_language'].isin(data['original_language'].value_counts().head(10).index)]"
   ]
  },
  {
   "cell_type": "code",
   "execution_count": 13,
   "metadata": {
    "id": "Pzlghaw9Po6B"
   },
   "outputs": [
    {
     "name": "stderr",
     "output_type": "stream",
     "text": [
      "C:\\Users\\dubey\\AppData\\Local\\Programs\\Python\\Python310\\lib\\site-packages\\seaborn\\_decorators.py:36: FutureWarning: Pass the following variables as keyword args: x, y. From version 0.12, the only valid positional argument will be `data`, and passing other arguments without an explicit keyword will result in an error or misinterpretation.\n",
      "  warnings.warn(\n"
     ]
    },
    {
     "data": {
      "text/plain": [
       "<AxesSubplot:xlabel='original_language', ylabel='revenue'>"
      ]
     },
     "execution_count": 13,
     "metadata": {},
     "output_type": "execute_result"
    },
    {
     "data": {
      "image/png": "[encoded data removed]",
      "text/plain": [
       "<Figure size 1152x576 with 1 Axes>"
      ]
     },
     "metadata": {},
     "output_type": "display_data"
    }
   ],
   "source": [
    "plt.figure(figsize=(16,8))\n",
    "plt.subplot(1,2,1)\n",
    "sns.scatterplot(languages['original_language'],languages['revenue'],color='blue')"
   ]
  },
  {
   "cell_type": "code",
   "execution_count": 14,
   "metadata": {},
   "outputs": [
    {
     "name": "stderr",
     "output_type": "stream",
     "text": [
      "C:\\Users\\dubey\\AppData\\Local\\Programs\\Python\\Python310\\lib\\site-packages\\seaborn\\_decorators.py:36: FutureWarning: Pass the following variables as keyword args: x, y. From version 0.12, the only valid positional argument will be `data`, and passing other arguments without an explicit keyword will result in an error or misinterpretation.\n",
      "  warnings.warn(\n"
     ]
    },
    {
     "data": {
      "text/plain": [
       "<AxesSubplot:title={'center':'Language vs Revenue'}, xlabel='original_language', ylabel='revenue'>"
      ]
     },
     "execution_count": 14,
     "metadata": {},
     "output_type": "execute_result"
    },
    {
     "data": {
      "image/png": "[encoded data removed]",
      "text/plain": [
       "<Figure size 1152x576 with 1 Axes>"
      ]
     },
     "metadata": {},
     "output_type": "display_data"
    }
   ],
   "source": [
    "plt.figure(figsize=(16,8))\n",
    "plt.subplot(1,2,1)\n",
    "plt.title(\"Language vs Revenue\")\n",
    "sns.barplot(languages['original_language'],languages['revenue'],color='aqua')"
   ]
  },
  {
   "cell_type": "code",
   "execution_count": null,
   "metadata": {},
   "outputs": [],
   "source": []
  }
 ],
 "metadata": {
  "colab": {
   "name": "Project_2 Notebook.ipynb",
   "provenance": []
  },
  "kernelspec": {
   "display_name": "Python 3 (ipykernel)",
   "language": "python",
   "name": "python3"
  },
  "language_info": {
   "codemirror_mode": {
    "name": "ipython",
    "version": 3
   },
   "file_extension": ".py",
   "mimetype": "text/x-python",
   "name": "python",
   "nbconvert_exporter": "python",
   "pygments_lexer": "ipython3",
   "version": "3.10.0"
  }
 },
 "nbformat": 4,
 "nbformat_minor": 1
}
